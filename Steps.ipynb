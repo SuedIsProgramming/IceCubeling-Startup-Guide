{
 "cells": [
  {
   "cell_type": "markdown",
   "metadata": {},
   "source": [
    "This guide has been written for Windows 11 users (As it is what I use), I am not sure how different it is for Mac, but I believe a lot of these steps can be replicated.\n",
    "\n",
    "(I hope this guide will be updated to include other operating systems/versions in the future)\n",
    "\n",
    "It is also intended for VSCode users, as it is what I utilize."
   ]
  },
  {
   "cell_type": "markdown",
   "metadata": {},
   "source": [
    "## Step 1: Download VSCode\n",
    "\n",
    "Download VSCode: https://code.visualstudio.com/download\n",
    "\n",
    "Once installed you are going to need some **extensions**.\n",
    "\n",
    "Go to extensions, plugins, and download the *Python* Plugin. You may also benefit a lot from downloading *Pylance* and *Pylint* plugins as they are good quality of life plugins for any Python developer. (Although Pylint can get annoying)"
   ]
  },
  {
   "attachments": {
    "image.png": {
     "image/png": "[encoded data removed]"
    }
   },
   "cell_type": "markdown",
   "metadata": {},
   "source": [
    "## Step 2: SSH\n",
    "\n",
    "One more plugin: *Remote - SSH*. This one is required for you to access the <ins>S</ins>ecure <ins>SH</ins>ell that controls the UMD cluster.\n",
    "\n",
    "Now we are ready to access the cluster. Click on the following button: in the lower left corner of your VSCode: ![image.png](attachment:image.png)\n",
    "\n",
    "Then click \"Connect to Host...\" then \"Add New SSH Host...\". Now you will write [*your username*]@pa-pub.umd.edu and choose where to save this config file.\n",
    "\n",
    "Now you will be connecting to the cluster, you will be asked to what type of cluster are you connecting to. Since the cluster is Linux based, select Linux.\n",
    "\n",
    "After this, enter your password to access the cluster!\n",
    "\n",
    "If everything worked correctly, you should have accessed the cluster. Go to the explorer (top left) and select open folder. Hopefully you have a folder with your name under i3home. If not you may need to create it. \n",
    "\n",
    "Surprisingly, you can use the VSCode explorer to modify/delete/create folders! This will save you time learning Linux commands (Although you would benefit from learning them). Also, if you ever need to access the terminal. You can open it by going to the terminal button in the top left and pressing on *New Terminal*\n"
   ]
  },
  {
   "cell_type": "markdown",
   "metadata": {},
   "source": [
    "## Step 3: Keys\n",
    "\n",
    "This part may get technical. However, it is well worth it.\n",
    "\n",
    "You will establish **keys** these are like *access cards*, it allows you to log into the cluster without having to put in a password.\n",
    "\n",
    "The key will be saved in your device and it will verified along trying to connect to the shell. Naturally, if you want to log into the cluster from another device,\n",
    "you will need to set it up again on that device. \n",
    "\n",
    "Note: During this whole process, you may be asked to enter your password multiple times. Until your key is setup, you just have to bear with this.\n",
    "\n",
    "* On Windows 11, we must first corroborate that we have the OpenSSH client installed. Go to settings, search for \"Optional Features\" then check if this client is installed. If not, install it.\n",
    "\n",
    "* If installed, open your cmd and type in `ssh-keygen`. It will ask where to save it. Its default location is fine, so hit enter. Then it will ask for a passphrase. For ease of convenient you can also leave it blank, if so hit enter twice. You can check that this work by looking into your folder, two files should be created with names like id_ed12345. One of these is yours and the other is a public key.\n",
    "\n",
    "* We now want to add this key public key to the cluster [*your username*]/.ssh/authorized_keys. To do this, open your public key. It should have a single line of text, to differentiate it from your private key. (Also your private key will literally say private key when you open it). Copy this text and then paste it in your authorized_keys as is. In the future, when you want to add more keys, simply add the new key in a new line.\n",
    "\n",
    "If everything was done succesfully, you should have everything setup to begin coding in the shell!"
   ]
  },
  {
   "cell_type": "markdown",
   "metadata": {},
   "source": [
    "## Step 4: GitHub\n",
    "\n",
    "<a href=\"https://github.com/\" target=\"_blank\">GitHub</a> is a fantastic code documentation and storage tool. Every veteran programmer should learn how to utilize it. I recommend you start early, so that you go through the mandatory struggles early, when your job does not depend on it! There are plenty of resources to learn more about GitHub so I won't go in depth here.\n",
    "\n",
    "Once you have your account, and have made a repository. You will want to clone it to the cluster. To do this there are several ways"
   ]
  },
  {
   "cell_type": "markdown",
   "metadata": {},
   "source": []
  }
 ],
 "metadata": {
  "language_info": {
   "name": "python"
  }
 },
 "nbformat": 4,
 "nbformat_minor": 2
}
